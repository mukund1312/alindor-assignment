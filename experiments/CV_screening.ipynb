{
  "cells": [
    {
      "cell_type": "markdown",
      "metadata": {
        "id": "fsS9n8RqdjEG"
      },
      "source": []
    },
    {
      "cell_type": "code",
      "execution_count": 2,
      "metadata": {
        "id": "v8fCmC-6Q3pP"
      },
      "outputs": [],
      "source": [
        "from PyPDF2 import PdfReader\n",
        "from langchain.embeddings.openai import OpenAIEmbeddings\n",
        "from langchain.text_splitter import CharacterTextSplitter\n",
        "from langchain.vectorstores import FAISS"
      ]
    },
    {
      "cell_type": "markdown",
      "metadata": {
        "id": "xP1-3VjZdlf4"
      },
      "source": []
    },
    {
      "cell_type": "code",
      "execution_count": 3,
      "metadata": {
        "id": "_aQ7ps_dRJOq"
      },
      "outputs": [],
      "source": [
        "import os\n",
        "os.environ[\"OPENAI_API_KEY\"] = \"sk-proj-lvXux0AynAaIWZM4jYtuT3BlbkFJbkRieEUb8pyUmERGTMEy\"\n",
        "# os.environ[\"SERPAPI_API_KEY\"] = \"\""
      ]
    },
    {
      "cell_type": "code",
      "execution_count": 20,
      "metadata": {
        "id": "_FA1ZERdRLAM"
      },
      "outputs": [],
      "source": [
        "# provide the path of  pdf file/files.\n",
        "pdfreader = PdfReader('/content/web-developer-resume-example.pdf')"
      ]
    },
    {
      "cell_type": "code",
      "execution_count": 21,
      "metadata": {
        "id": "q9AeO9cDRqMj"
      },
      "outputs": [],
      "source": [
        "from typing_extensions import Concatenate\n",
        "# read text from pdf\n",
        "raw_text = ''\n",
        "for i, page in enumerate(pdfreader.pages):\n",
        "    content = page.extract_text()\n",
        "    if content:\n",
        "        raw_text += content"
      ]
    },
    {
      "cell_type": "code",
      "execution_count": 22,
      "metadata": {
        "colab": {
          "base_uri": "https://localhost:8080/",
          "height": 191
        },
        "id": "yGlxUMl-Rsmy",
        "outputId": "6bdb2a43-c7e9-4a65-ffbd-4351993f9f3a"
      },
      "outputs": [
        {
          "data": {
            "application/vnd.google.colaboratory.intrinsic+json": {
              "type": "string"
            },
            "text/plain": [
              "'J A C K S O N\\nM A C A R T H U R\\nW e b  D e v e l o p e r\\njmacattack@email.com\\n(123) 456-7890\\nAtlanta, GA\\njackmac.dev\\nlinkedin.com/in/justin-mac\\ngithub.com/jmacattack\\nE D U C A T I O N\\nB.S.\\nComputer Science\\nUniversity of Georgia\\nSeptember 2012 - June 2016\\nAthens, GA\\nS K I L L S\\nJavaScript\\nHTML\\nCSS\\nReact.js\\nNode.js\\nAngular.js\\nMongoDB\\nAWS\\nJavaC A R E E R  O B J E C T I V E\\nSoftware engineer with a proven ability to adapt in both self-starting and\\ncollaborative environments while staying focused on achieving high-\\nquality results under strict deadlines. This quality and results-based\\napproach drove me to collaborate with the VP of sales at Squarespace to\\ncreate a digital marketing campaign that tripled average signups in a\\nsingle month. Eager to obtain a challenging position at a prestigious\\ncompany like Dream Version that will expand my learning and build upon\\nmy developer skills.\\nW O R K  E X P E R I E N C E\\nWeb Developer\\nSquarespace\\nAugust 2020 - current Remote\\n·Coached 4 junior designers in ARIA and A11y accessibility\\nstandards.\\n·Created and oversaw wireframe designs from client requests.\\n·Spearheaded transition from ﬁrebase to AWS, saving company\\n$3,700+ monthly and increasing load speeds by an average of 38%.\\n·Developed documentation to teach new team members company\\nstandards and best practices in React.js and Node.js.\\n·Addressed complex issues with real-time lead prioritization using\\nWebsocket connectivity.\\nWeb Designer\\nCoca-Cola\\nJanuary 2017 - August 2020 Atlanta, GA\\n·Built mock designs and wireframes for landing pages for 5 new\\nproduct concepts.\\n·Created accessible, responsive, and functional user interfaces to\\nallow visitors on any device to have the same perfect user\\nexperience.\\n·Created the user experience that fetched, parsed, and formatted\\nanalytic data, and relayed it into React components.\\n·Collaborated on Complexity Score tool, which removed process\\nbottlenecks by assigning scores to cost, time, and compliance\\nissues, increasing efﬁciency by 72%.\\nWeb Development Intern\\nSiriusXM\\nJuly 2016 - January 2017 Athens, GA\\n·Developed user interfaces with modern JavaScript frameworks,\\nHTML5, and CSS3, which improved user satisfaction by 31%.\\n·Developed object-oriented code in Node.js with 100% accordance\\nto industry and company standards.\\n·Learned multiple threading, concurrency, design patterns, and their\\nimpacts on application concurrency.\\n·Designed and developed web applications using JavaScript\\nframeworks React.js and Angular.js to increase target audience\\nengagement by 12%.'"
            ]
          },
          "execution_count": 22,
          "metadata": {},
          "output_type": "execute_result"
        }
      ],
      "source": [
        "raw_text"
      ]
    },
    {
      "cell_type": "code",
      "execution_count": 23,
      "metadata": {
        "id": "VP6ap_PSRt7s"
      },
      "outputs": [],
      "source": [
        "# We need to split the text using Character Text Split such that it sshould not increse token size\n",
        "text_splitter = CharacterTextSplitter(\n",
        "    separator = \"\\n\",\n",
        "    chunk_size = 800,\n",
        "    chunk_overlap  = 200,\n",
        "    length_function = len,\n",
        ")\n",
        "texts = text_splitter.split_text(raw_text)"
      ]
    },
    {
      "cell_type": "code",
      "execution_count": 24,
      "metadata": {
        "colab": {
          "base_uri": "https://localhost:8080/"
        },
        "id": "i9GLXwH1SVOe",
        "outputId": "91de5554-52f9-4763-a64c-e76742cbd3a7"
      },
      "outputs": [
        {
          "data": {
            "text/plain": [
              "4"
            ]
          },
          "execution_count": 24,
          "metadata": {},
          "output_type": "execute_result"
        }
      ],
      "source": [
        "len(texts)"
      ]
    },
    {
      "cell_type": "code",
      "execution_count": 25,
      "metadata": {
        "id": "wqy4vJhrSXUT"
      },
      "outputs": [],
      "source": [
        "# Download embeddings from OpenAI\n",
        "embeddings = OpenAIEmbeddings()"
      ]
    },
    {
      "cell_type": "code",
      "execution_count": 26,
      "metadata": {
        "id": "3igYiWjISjvS"
      },
      "outputs": [],
      "source": [
        "document_search = FAISS.from_texts(texts, embeddings)"
      ]
    },
    {
      "cell_type": "code",
      "execution_count": 27,
      "metadata": {
        "colab": {
          "base_uri": "https://localhost:8080/"
        },
        "id": "6bJpE1qlSlNb",
        "outputId": "b1629409-007d-43a4-b342-1542b0c8982b"
      },
      "outputs": [
        {
          "data": {
            "text/plain": [
              "<langchain_community.vectorstores.faiss.FAISS at 0x7b37a30f69b0>"
            ]
          },
          "execution_count": 27,
          "metadata": {},
          "output_type": "execute_result"
        }
      ],
      "source": [
        "document_search\n"
      ]
    },
    {
      "cell_type": "code",
      "execution_count": 28,
      "metadata": {
        "id": "Po-ip1fPSonv"
      },
      "outputs": [],
      "source": [
        "from langchain.chains.question_answering import load_qa_chain\n",
        "from langchain.llms import OpenAI"
      ]
    },
    {
      "cell_type": "code",
      "execution_count": 29,
      "metadata": {
        "id": "iYl2PzKSSqg0"
      },
      "outputs": [],
      "source": [
        "chain = load_qa_chain(OpenAI(), chain_type=\"stuff\")"
      ]
    },
    {
      "cell_type": "code",
      "execution_count": 42,
      "metadata": {
        "colab": {
          "base_uri": "https://localhost:8080/",
          "height": 176
        },
        "id": "GQafhpOz4IsV",
        "outputId": "227e4c39-46ac-4e4a-a607-ecbf895b14d0"
      },
      "outputs": [
        {
          "ename": "NameError",
          "evalue": "name 'text_to_jason' is not defined",
          "output_type": "error",
          "traceback": [
            "\u001b[0;31m---------------------------------------------------------------------------\u001b[0m",
            "\u001b[0;31mNameError\u001b[0m                                 Traceback (most recent call last)",
            "\u001b[0;32m<ipython-input-42-8775739fdea0>\u001b[0m in \u001b[0;36m<cell line: 10>\u001b[0;34m()\u001b[0m\n\u001b[1;32m      8\u001b[0m     \u001b[0mjson_data\u001b[0m \u001b[0;34m=\u001b[0m \u001b[0;34m{\u001b[0m\u001b[0;34m\"text\"\u001b[0m\u001b[0;34m:\u001b[0m \u001b[0ma\u001b[0m\u001b[0;34m}\u001b[0m\u001b[0;34m\u001b[0m\u001b[0;34m\u001b[0m\u001b[0m\n\u001b[1;32m      9\u001b[0m     \u001b[0;32mreturn\u001b[0m\u001b[0;34m(\u001b[0m \u001b[0mjson\u001b[0m\u001b[0;34m.\u001b[0m\u001b[0mdumps\u001b[0m\u001b[0;34m(\u001b[0m\u001b[0mjson_data\u001b[0m\u001b[0;34m,\u001b[0m \u001b[0mindent\u001b[0m\u001b[0;34m=\u001b[0m\u001b[0;36m4\u001b[0m\u001b[0;34m)\u001b[0m\u001b[0;34m)\u001b[0m\u001b[0;34m\u001b[0m\u001b[0;34m\u001b[0m\u001b[0m\n\u001b[0;32m---> 10\u001b[0;31m \u001b[0mtext_to_jason\u001b[0m\u001b[0;34m\u001b[0m\u001b[0;34m\u001b[0m\u001b[0m\n\u001b[0m",
            "\u001b[0;31mNameError\u001b[0m: name 'text_to_jason' is not defined"
          ]
        }
      ],
      "source": [
        "import json\n",
        "# JD=input(\"enter the job description\")\n",
        "# query = \" {}\".format(JD)\n",
        "query = f\"give the following details Relevant experience , Education and training,Skills and abilities,Communication skills,Work experience\"\n",
        "docs = document_search.similarity_search(query)\n",
        "a=chain.run(input_documents=docs, question=query)\n",
        "def text_to_json(a):\n",
        "    json_data = {\"text\": a}\n",
        "    return( json.dumps(json_data, indent=4))"
      ]
    },
    {
      "cell_type": "code",
      "execution_count": null,
      "metadata": {
        "id": "xLtdwhr1QHeg"
      },
      "outputs": [],
      "source": [
        "pip install openai==0.28"
      ]
    },
    {
      "cell_type": "code",
      "execution_count": null,
      "metadata": {
        "id": "QT6lQoPGPae5"
      },
      "outputs": [],
      "source": [
        "import openai\n",
        "\n",
        "openai.api_key = 'your-api-key'\n",
        "\n",
        "def rate_cv(cv_text, job_description):\n",
        "    response = openai.Completion.create(\n",
        "      model=\"gpt-3.5-turo\",\n",
        "      prompt=f\"Rate the following CV against the job description. CV details: {cv_text}. Job Description: {job_description}\",\n",
        "      temperature=0\n",
        "    )\n",
        "    return response.choices[0].text.strip()\n",
        "\n",
        "# Example usage\n",
        "cv_text = raw_text\n",
        "job_description = \"Looking for a senior software engineer with experience in machine learning and Python...\"\n",
        "rating = rate_cv(cv_text, job_description)\n",
        "print(rating)\n"
      ]
    },
    {
      "cell_type": "markdown",
      "metadata": {
        "id": "S3HZXIEnBeD_"
      },
      "source": []
    }
  ],
  "metadata": {
    "colab": {
      "provenance": []
    },
    "kernelspec": {
      "display_name": "Python 3",
      "name": "python3"
    },
    "language_info": {
      "name": "python"
    }
  },
  "nbformat": 4,
  "nbformat_minor": 0
}
